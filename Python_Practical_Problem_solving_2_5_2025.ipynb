{
  "cells": [
    {
      "cell_type": "markdown",
      "metadata": {
        "id": "view-in-github",
        "colab_type": "text"
      },
      "source": [
        "<a href=\"https://colab.research.google.com/github/Shadi-Aldbaiss/Python/blob/main/Python_Practical_Problem_solving_2_5_2025.ipynb\" target=\"_parent\"><img src=\"https://colab.research.google.com/assets/colab-badge.svg\" alt=\"Open In Colab\"/></a>"
      ]
    },
    {
      "cell_type": "markdown",
      "metadata": {
        "id": "UhGbIlX7HUri"
      },
      "source": [
        "# **List**"
      ]
    },
    {
      "cell_type": "code",
      "execution_count": 132,
      "metadata": {
        "colab": {
          "base_uri": "https://localhost:8080/"
        },
        "id": "CpONhUIvHRWE",
        "outputId": "8cb1a960-5d43-406c-923d-ccea001e8b2e"
      },
      "outputs": [
        {
          "output_type": "stream",
          "name": "stdout",
          "text": [
            "Even Number List [2, 4, 6, 8, 10]\n",
            "Common Element {8, 5, 6, 7}\n",
            "Reversed List [10, 9, 8, 7, 6, 5, 4, 3, 2, 1]\n",
            "The sum of the list elements =  550\n",
            "The second largest number on the list is =  90\n"
          ]
        }
      ],
      "source": [
        "#Q1: Print only even numbers from list\n",
        "numberList=[1,2,3,4,5,6,7,8,9,10]\n",
        "evenNumberList=[]\n",
        "for n in numberList:\n",
        "  if n % 2 == 0:\n",
        "    evenNumberList.append(n)\n",
        "print('Even Number List',evenNumberList)\n",
        "\n",
        "#---------------------------------------------------------------------\n",
        "\n",
        "#Q2:Function to return a list of common elements from toe lists\n",
        "def getCommonElements(l1,l2):\n",
        "  commonElements=[]\n",
        "  commonElements=list1.intersection(list2)\n",
        "  return commonElements\n",
        "\n",
        "list1={1,2,3,4,5,6,7,8}\n",
        "list2={5,6,7,8,9,10}\n",
        "commonElement=getCommonElements(list1,list2)\n",
        "print(\"Common Element\",commonElement)\n",
        "\n",
        "#-----------------------------------------------------------------------\n",
        "\n",
        "#Q3: Reverse a list without using reverse() or slicing\n",
        "my_list=[1,2,3,4,5,6,7,8,9,10]\n",
        "reversedList=[]\n",
        "for i in range(len(my_list)-1,-1,-1):\n",
        "  reversedList.append(my_list[i])\n",
        "print(\"Reversed List\",reversedList)\n",
        "\n",
        "#------------------------------------------------------------------------\n",
        "\n",
        "#Q4: Calculat all elements of list withot using sum() function\n",
        "my_list=[10,20,30,40,50,60,70,80,90,100]\n",
        "sum=0\n",
        "for n in my_list:\n",
        "  sum=sum+n\n",
        "print(\"The sum of the list elements = \",sum)\n",
        "\n",
        "#-------------------------------------------------------------------------\n",
        "\n",
        "#Q5 : Get the second largest number on the list\n",
        "my_list=[10,30,50,80,90,20,100,40,60,70]\n",
        "orderedList=sorted(my_list)\n",
        "print(\"The second largest number on the list is = \",orderedList[-2])\n",
        "\n",
        "# ------------------------------------------------------------------------\n",
        "\n"
      ]
    },
    {
      "cell_type": "markdown",
      "metadata": {
        "id": "cYNzipIBHZnI"
      },
      "source": [
        "# **Tuple**"
      ]
    },
    {
      "cell_type": "code",
      "execution_count": 133,
      "metadata": {
        "colab": {
          "base_uri": "https://localhost:8080/"
        },
        "id": "HOQb8ereHc_E",
        "outputId": "08c8e365-5548-4ed0-fe8a-8f7744e5faf2"
      },
      "outputs": [
        {
          "output_type": "stream",
          "name": "stdout",
          "text": [
            "Maximum number =  50\n",
            "Minimum number =  10\n",
            "Swapped Tuple (50, 20, 30, 40, 10)\n",
            "Sorted Tuple (10, 20, 30, 40, 50)\n",
            "10  appears 4 times\n",
            "50  appears 2 times\n"
          ]
        }
      ],
      "source": [
        "#Q1 : Print maximum and minimum numbers without using max()and  min()\n",
        "my_tuple = (10,30,50,20,40)\n",
        "my_list = list(my_tuple)\n",
        "my_list.sort()\n",
        "my_tuple=tuple(my_list)\n",
        "print(\"Maximum number = \",my_tuple[-1])\n",
        "print(\"Minimum number = \",my_tuple[0])\n",
        "\n",
        "#------------------------------------------------------------------------\n",
        "\n",
        "#Q2: function to swap the first and last element of a tuple\n",
        "def swap(myTuple):\n",
        "  my_list=list(myTuple)\n",
        "  temp=my_list[0]\n",
        "  my_list[0]=my_list[-1]\n",
        "  my_list[-1]=temp\n",
        "  my_tuple=tuple(my_list)\n",
        "  return my_tuple\n",
        "\n",
        "my_tuple=(10,20,30,40,50)\n",
        "swappedTuple=swap(my_tuple)\n",
        "print(\"Swapped Tuple\",swappedTuple)\n",
        "\n",
        "#------------------------------------------------------------------------\n",
        "\n",
        "#Q3:convert tuple to list and sort it\n",
        "my_tuple=(10,20,30,40,50)\n",
        "my_list=list(my_tuple)\n",
        "my_list.sort()\n",
        "my_tuple=tuple(my_list)\n",
        "print(\"Sorted Tuple\",my_tuple)\n",
        "\n",
        "#--------------------------------------------------------------------------\n",
        "\n",
        "#Q4 : count how many times an element appears in a tuple\n",
        "def elementCount(my_tuple,element):\n",
        "  print(element,\" appears\",my_tuple.count(element),\"times\")\n",
        "\n",
        "my_tuple=(10,20,10,30,30,20,20,10,50,60,50,10)\n",
        "elementCount(my_tuple,10)\n",
        "elementCount(my_tuple,50)\n",
        "\n",
        "#--------------------------------------------------------------------------\n"
      ]
    },
    {
      "cell_type": "markdown",
      "metadata": {
        "id": "RsvVNIoHbRMl"
      },
      "source": [
        "# Dictionary"
      ]
    },
    {
      "cell_type": "code",
      "execution_count": 134,
      "metadata": {
        "colab": {
          "base_uri": "https://localhost:8080/"
        },
        "id": "iWTvVp8CLp9p",
        "outputId": "6310eb53-12ed-4b1e-f97a-2e94b4e43fc6"
      },
      "outputs": [
        {
          "output_type": "stream",
          "name": "stdout",
          "text": [
            "Passed Students :  ['Shadi', 'Mohammad']\n",
            "Merged Dictionary {'A': 1, 'B': 2, 'C': 3, 'D': 4, 'E': 5, 'F': 6}\n",
            "The highest key is :  D\n",
            "Inverted Dictionary {1: 'A', 2: 'B', 3: 'C', 4: 'D'}\n",
            "Letters counts {'h': 2, 'e': 1, 'l': 2, 'o': 1, ' ': 1, 's': 1, 'a': 1, 'd': 1, 'i': 1}\n"
          ]
        }
      ],
      "source": [
        "#Q1: Print student names who passes form dictionary\n",
        "studentDictionary= {'Shadi':95,'Mohammad': 80,'Ali': 45,'Hassan': 32}\n",
        "passedStudents=[]\n",
        "for key,value in studentDictionary.items():\n",
        "  if value >= 50:\n",
        "    passedStudents.append(key)\n",
        "\n",
        "print(\"Passed Students : \",passedStudents)\n",
        "\n",
        "#--------------------------------------------------------------------------\n",
        "\n",
        "#Q2: fnction to merge tow ditionaries in to one dictionary\n",
        "dictionary1={'A':1,'B':2,'C':3}\n",
        "dictionary2={'D':4,'E':5,'F':6}\n",
        "dictionary1.update(dictionary2)\n",
        "print(\"Merged Dictionary\",dictionary1)\n",
        "\n",
        "#--------------------------------------------------------------------------\n",
        "\n",
        "#Q3: Get the key of the highest value in a dictionary without using max()\n",
        "myDictionary={'A':1,'B':2,'C':3,'D':4}\n",
        "highest_key = None\n",
        "highest_value = 0\n",
        "\n",
        "for key, value in myDictionary.items():\n",
        "    if value > highest_value:\n",
        "        highest_value = value\n",
        "        highest_key = key\n",
        "\n",
        "print('The highest key is : ',highest_key)\n",
        "\n",
        "#------------------------------------------------------------------------------\n",
        "\n",
        "#Q4:invert dictionary\n",
        "myDictionary={'A':1,'B':2,'C':3,'D':4}\n",
        "invertedDictionary={}\n",
        "for key,value in myDictionary.items():\n",
        "  invertedDictionary[value]=key\n",
        "print(\"Inverted Dictionary\",invertedDictionary)\n",
        "\n",
        "#-------------------------------------------------------------------------------\n",
        "\n",
        "#Q5: How many times each letter appears in a string using a dictionary\n",
        "stingMessage = \"hello shadi\"\n",
        "letter_counts = {}\n",
        "\n",
        "for letter in stingMessage:\n",
        "        if letter in letter_counts:\n",
        "            letter_counts[letter] += 1\n",
        "        else:\n",
        "            letter_counts[letter] = 1\n",
        "\n",
        "print('Letters counts',letter_counts)\n",
        "\n",
        "#---------------------------------------------------------------------------"
      ]
    },
    {
      "cell_type": "markdown",
      "metadata": {
        "id": "IH3XmW5bcGjl"
      },
      "source": [
        "# Set"
      ]
    },
    {
      "cell_type": "code",
      "execution_count": 135,
      "metadata": {
        "colab": {
          "base_uri": "https://localhost:8080/"
        },
        "id": "XE5F2WpqcMhy",
        "outputId": "d84ca55a-ebbb-4563-b5b9-ba3d31ca3ee1"
      },
      "outputs": [
        {
          "output_type": "stream",
          "name": "stdout",
          "text": [
            "Intersection :  {4, 5}\n",
            "Union :  {1, 2, 3, 4, 5, 6, 7, 8}\n",
            "Unique List :  [1, 2, 3, 4, 5, 6, 7, 8, 9]\n",
            "Are the two sets disjoint ?  True\n",
            "Symmetric Difference :  {1, 2, 3, 6, 7, 8}\n"
          ]
        }
      ],
      "source": [
        "#Q1: intersection and union between tow set\n",
        "set1={1,2,3,4,5}\n",
        "set2={4,5,6,7,8}\n",
        "intersection=set1.intersection(set2)\n",
        "union=set1.union(set2)\n",
        "print(\"Intersection : \",intersection)\n",
        "print(\"Union : \", union)\n",
        "\n",
        "#------------------------------------------------------------------\n",
        "\n",
        "#Q2: remove duplicates from a list by converting it to set and back to a list\n",
        "my_list=[1,2,3,4,5,6,7,8,9,1,2,3,]\n",
        "my_set=set(my_list)\n",
        "unique_list = list(my_set)\n",
        "print(\"Unique List : \",unique_list)\n",
        "\n",
        "#------------------------------------------------------------------\n",
        "\n",
        "#Q3:Function to check if two sets are disjoint\n",
        "def are_disjoint(set1, set2):\n",
        "    if set1.isdisjoint(set2):\n",
        "        return True\n",
        "    else:\n",
        "        return False\n",
        "\n",
        "set1 = {1, 2, 3}\n",
        "set2 = {4, 5, 6}\n",
        "result = are_disjoint(set1, set2)\n",
        "print(\"Are the two sets disjoint ? \",result)\n",
        "\n",
        "#------------------------------------------------------------------\n",
        "\n",
        "#Q4 : find the symmetric difference between two sets\n",
        "set1 = {1, 2, 3, 4, 5}\n",
        "set2 = {4, 5, 6, 7, 8}\n",
        "symmetric_difference = set1.symmetric_difference(set2)\n",
        "print(\"Symmetric Difference : \",symmetric_difference)\n",
        "\n",
        "#------------------------------------------------------------------\n"
      ]
    },
    {
      "cell_type": "markdown",
      "metadata": {
        "id": "0_DLmkfXf6na"
      },
      "source": [
        "# If Condition"
      ]
    },
    {
      "cell_type": "code",
      "execution_count": 136,
      "metadata": {
        "colab": {
          "base_uri": "https://localhost:8080/"
        },
        "id": "3-wSmZHLf_0_",
        "outputId": "97ebea4e-06b1-438d-d245-0e3543f43d60"
      },
      "outputs": [
        {
          "output_type": "stream",
          "name": "stdout",
          "text": [
            "The number  5  is positive.\n",
            "The number  -3  is negative.\n",
            "The number is zero.\n",
            "2024 is a leap year.\n",
            "2025 is not a leap year.\n",
            "E is a vowel.\n",
            "S is a constant.\n"
          ]
        }
      ],
      "source": [
        "#Q1: check if a number is positiv or negitive or zero\n",
        "def check_number(number):\n",
        "    if number > 0:\n",
        "        print(\"The number \",number , \" is positive.\")\n",
        "    elif number < 0:\n",
        "        print(\"The number \",number , \" is negative.\")\n",
        "    else:\n",
        "        print(\"The number is zero.\")\n",
        "\n",
        "check_number(5)\n",
        "check_number(-3)\n",
        "check_number(0)\n",
        "\n",
        "# ---------------------------------------------------------\n",
        "\n",
        "#Q2: check if a given year is leap year\n",
        "def is_leap_year(year):\n",
        "    if (year % 4 == 0 and year % 100 != 0) or (year % 400 == 0):\n",
        "        print(year, \"is a leap year.\")\n",
        "    else:\n",
        "        print(year, \"is not a leap year.\")\n",
        "\n",
        "\n",
        "year = 2024\n",
        "is_leap_year(year)\n",
        "year = 2025\n",
        "is_leap_year(year)\n",
        "\n",
        "# ---------------------------------------------------------\n",
        "\n",
        "#Q3 : check if  a character is a vowel or constant\n",
        "def check_vowel_or_constant(char):\n",
        "    vowels = \"AEIOUaeiou\"\n",
        "    if char in vowels:\n",
        "        print(char, \"is a vowel.\")\n",
        "    else:\n",
        "        print(char, \"is a constant.\")\n",
        "\n",
        "\n",
        "char = 'E'\n",
        "check_vowel_or_constant(char)\n",
        "char = 'S'\n",
        "check_vowel_or_constant(char)\n",
        "\n",
        "# ---------------------------------------------------------\n",
        "\n"
      ]
    },
    {
      "cell_type": "markdown",
      "metadata": {
        "id": "NDgoQGRUiyNL"
      },
      "source": [
        "# While Loop"
      ]
    },
    {
      "cell_type": "code",
      "execution_count": 148,
      "metadata": {
        "colab": {
          "base_uri": "https://localhost:8080/"
        },
        "id": "-O8jZAhci4QD",
        "outputId": "be71ef67-eeb8-4548-e549-6647a81be8d9"
      },
      "outputs": [
        {
          "output_type": "stream",
          "name": "stdout",
          "text": [
            "1\n",
            "2\n",
            "3\n",
            "4\n",
            "5\n",
            "6\n",
            "7\n",
            "8\n",
            "9\n",
            "10\n",
            "11\n",
            "12\n",
            "13\n",
            "14\n",
            "15\n",
            "16\n",
            "Enter a number (enter -1 to stop): 10\n",
            "Enter a number (enter -1 to stop): -1\n",
            "The sum of the numbers is: 10\n",
            "1\n",
            "3\n",
            "5\n",
            "7\n",
            "9\n",
            "11\n",
            "13\n",
            "15\n",
            "17\n",
            "19\n",
            "21\n",
            "23\n",
            "25\n",
            "27\n",
            "29\n",
            "31\n",
            "33\n",
            "35\n",
            "37\n",
            "39\n",
            "41\n",
            "43\n",
            "45\n",
            "47\n",
            "49\n"
          ]
        }
      ],
      "source": [
        "#Q1: print numbers from 1 to 100 but stops if the number is divisible by 17 by while loop\n",
        "i = 1\n",
        "while i <= 100:\n",
        "    if i % 17 == 0:\n",
        "        break\n",
        "    print(i)\n",
        "    i += 1\n",
        "\n",
        "# ---------------------------------------------------------\n",
        "\n",
        "#Q2: while loop to sums the numbers until the user enters -1\n",
        "sum = 0\n",
        "while True:\n",
        "    number = int(input(\"Enter a number (enter -1 to stop): \"))\n",
        "    if number == -1:\n",
        "        break\n",
        "    sum += number\n",
        "print(\"The sum of the numbers is:\", sum)\n",
        "#-----------------------------------------------------\n",
        "\n",
        "#Q3: while loop to print odd numbers from 1 to 50\n",
        "number=1\n",
        "while number<=50:\n",
        "  if number%2==1:\n",
        "    print(number)\n",
        "  number+=1\n",
        "\n",
        "#-----------------------------------------------------\n",
        "\n"
      ]
    },
    {
      "cell_type": "markdown",
      "metadata": {
        "id": "hixlkT99k9Mf"
      },
      "source": [
        "# For Loop"
      ]
    },
    {
      "cell_type": "code",
      "execution_count": 139,
      "metadata": {
        "colab": {
          "base_uri": "https://localhost:8080/"
        },
        "id": "ei8_9LrXlBt2",
        "outputId": "9eac1f02-22c6-4095-baf6-10d4babea745"
      },
      "outputs": [
        {
          "output_type": "stream",
          "name": "stdout",
          "text": [
            "Enter a number: 10\n",
            "10 x 1 = 10\n",
            "10 x 2 = 20\n",
            "10 x 3 = 30\n",
            "10 x 4 = 40\n",
            "10 x 5 = 50\n",
            "10 x 6 = 60\n",
            "10 x 7 = 70\n",
            "10 x 8 = 80\n",
            "10 x 9 = 90\n",
            "10 x 10 = 100\n",
            "Enter a string: jhgk\n",
            "The number of vowels in the string is:  0\n",
            "6\n",
            "7\n",
            "8\n",
            "9\n",
            "10\n"
          ]
        }
      ],
      "source": [
        "#Q1: print multiplication table (from 1 to 10) for given number using a for loop\n",
        "number=int(input(\"Enter a number: \"))\n",
        "for i in range(1,11):\n",
        "  print(number,\"x\",i,\"=\",number*i)\n",
        "\n",
        "#---------------------------------------------------------------------------\n",
        "\n",
        "#Q2: Count how many vowels are in a given string\n",
        "givenString=input(\"Enter a string: \")\n",
        "vowels=\"aeiouAEIOU\"\n",
        "count=0\n",
        "for char in givenString:\n",
        "  if char in vowels:\n",
        "    count+=1\n",
        "print(\"The number of vowels in the string is: \",count)\n",
        "\n",
        "#---------------------------------------------------------------------------\n",
        "\n",
        "#Q3 : print element greater than 5 from a list by for loop\n",
        "myList=[1,2,3,4,5,6,7,8,9,10]\n",
        "for i in myList:\n",
        "  if i>5:\n",
        "    print(i)\n",
        "\n",
        "#---------------------------------------------------------------------------\n"
      ]
    },
    {
      "cell_type": "markdown",
      "metadata": {
        "id": "CQYSAw7dngJa"
      },
      "source": [
        "# Function"
      ]
    },
    {
      "cell_type": "code",
      "execution_count": 140,
      "metadata": {
        "colab": {
          "base_uri": "https://localhost:8080/"
        },
        "id": "9Bz3UUbvnmAP",
        "outputId": "0483e3bd-e810-4079-d339-16fcac863433"
      },
      "outputs": [
        {
          "output_type": "stream",
          "name": "stdout",
          "text": [
            "120\n",
            "Enter a string: ugiu\n",
            "The string is not a palindrome\n",
            "[1, 4, 9, 16, 25]\n"
          ]
        }
      ],
      "source": [
        "#Q1 function to get the factorial of number without using any libraries\n",
        "def factorial(number):\n",
        "    if number == 0 or n == 1:\n",
        "        return 1\n",
        "    else:\n",
        "        return number * factorial(number - 1)\n",
        "\n",
        "print(factorial(5))\n",
        "\n",
        "#---------------------------------------------------------------------------\n",
        "\n",
        "#Q2: function to check if  a string is a palindrome\n",
        "def isPalindrome():\n",
        "  givenString=input(\"Enter a string: \")\n",
        "  if givenString==givenString[::-1]:\n",
        "    print(\"The string is a palindrome\")\n",
        "  else:\n",
        "    print(\"The string is not a palindrome\")\n",
        "\n",
        "isPalindrome()\n",
        "\n",
        "#---------------------------------------------------------------------\n",
        "\n",
        "#Q3: function to sequar all numbers of a list\n",
        "def square(myList):\n",
        "  squaredList=[]\n",
        "  for n in myList:\n",
        "    squaredList.append(n*n)\n",
        "  return squaredList\n",
        "\n",
        "myList=[1,2,3,4,5,]\n",
        "mySquaredList=square(myList)\n",
        "print(mySquaredList)\n",
        "\n",
        "#---------------------------------------------------------------------\n"
      ]
    },
    {
      "cell_type": "markdown",
      "source": [
        "# Recursion"
      ],
      "metadata": {
        "id": "S4hFQj2bvuOs"
      }
    },
    {
      "cell_type": "code",
      "source": [
        "#Q1: recursive function to find the nth fibonacci number\n",
        "def fibonacci(n):\n",
        "    if n <= 0:\n",
        "        return 0\n",
        "    elif n == 1:\n",
        "        return 1\n",
        "    else:\n",
        "        return fibonacci(n - 1) + fibonacci(n - 2)\n",
        "\n",
        "print(fibonacci(10))\n",
        "\n",
        "#---------------------------------------------------------------\n",
        "\n",
        "#Q2: recursive function to compute the power of a number\n",
        "def power(base, exponent):\n",
        "    if exponent == 0:\n",
        "        return 1\n",
        "    elif exponent > 0:\n",
        "        return base * power(base, exponent - 1)\n",
        "    else:\n",
        "        return\n",
        "\n",
        "print(power(7,3))\n",
        "\n",
        "#------------------------------------------------------------\n",
        "\n",
        "#Q3: recursive function to compute the sum of a list of number\n",
        "def listSum(myList):\n",
        "    if len(myList) == 0:\n",
        "        return 0\n",
        "    else:\n",
        "        return myList[0] + listSum(myList[1:])\n",
        "\n",
        "myList = [1, 2, 3, 4, 5]\n",
        "print(listSum(myList))\n",
        "\n",
        "#------------------------------------------------------------\n"
      ],
      "metadata": {
        "colab": {
          "base_uri": "https://localhost:8080/"
        },
        "id": "zY5XQuEZv0ly",
        "outputId": "a9ecaa3f-764d-461e-cabd-817108b58145"
      },
      "execution_count": 141,
      "outputs": [
        {
          "output_type": "stream",
          "name": "stdout",
          "text": [
            "55\n",
            "343\n",
            "15\n"
          ]
        }
      ]
    },
    {
      "cell_type": "markdown",
      "source": [
        "# Break and continue"
      ],
      "metadata": {
        "id": "TPD79dFCzYgU"
      }
    },
    {
      "cell_type": "code",
      "source": [
        "#Q1: print numbers from 1 to 20 but skips multiple of 3\n",
        "print('---- The numbers from 1 to 20 but skips multiple of 3 --------')\n",
        "for i in range(1, 21):\n",
        "    if i % 3 == 0:\n",
        "        continue\n",
        "    print(i)\n",
        "\n",
        "#-------------------------------------------------------------------------\n",
        "\n",
        "#Q2:  print numbers from 1 to 50 and breaks the loop if a number is divisible by 13 and 7\n",
        "print('---- The numbers from 1 to 50 and breaks the loop if a number is divisible by 13 and 7 --------')\n",
        "for i in range(1, 51):\n",
        "    if i % 13 == 0 and i % 7 == 0 :\n",
        "        break\n",
        "    print(i)\n",
        "\n",
        "#Q3: for loop that breaks when it find the first even number in a list\n",
        "myList = [1, 2, 3, 4, 5, 6, 7, 8, 9, 10]\n",
        "for i in myList:\n",
        "    if i % 2 == 0:\n",
        "        print(\"The first even number in a list is \",i)\n",
        "        break"
      ],
      "metadata": {
        "colab": {
          "base_uri": "https://localhost:8080/"
        },
        "id": "HmoJIfrbzfng",
        "outputId": "f7543825-a4c6-42ee-e597-a12aa34f4590"
      },
      "execution_count": 142,
      "outputs": [
        {
          "output_type": "stream",
          "name": "stdout",
          "text": [
            "---- The numbers from 1 to 20 but skips multiple of 3 --------\n",
            "1\n",
            "2\n",
            "4\n",
            "5\n",
            "7\n",
            "8\n",
            "10\n",
            "11\n",
            "13\n",
            "14\n",
            "16\n",
            "17\n",
            "19\n",
            "20\n",
            "---- The numbers from 1 to 50 and breaks the loop if a number is divisible by 13 and 7 --------\n",
            "1\n",
            "2\n",
            "3\n",
            "4\n",
            "5\n",
            "6\n",
            "7\n",
            "8\n",
            "9\n",
            "10\n",
            "11\n",
            "12\n",
            "13\n",
            "14\n",
            "15\n",
            "16\n",
            "17\n",
            "18\n",
            "19\n",
            "20\n",
            "21\n",
            "22\n",
            "23\n",
            "24\n",
            "25\n",
            "26\n",
            "27\n",
            "28\n",
            "29\n",
            "30\n",
            "31\n",
            "32\n",
            "33\n",
            "34\n",
            "35\n",
            "36\n",
            "37\n",
            "38\n",
            "39\n",
            "40\n",
            "41\n",
            "42\n",
            "43\n",
            "44\n",
            "45\n",
            "46\n",
            "47\n",
            "48\n",
            "49\n",
            "50\n",
            "The first even number in a list is  2\n"
          ]
        }
      ]
    },
    {
      "cell_type": "markdown",
      "source": [
        "# Lambda"
      ],
      "metadata": {
        "id": "hs77-FnL4ui7"
      }
    },
    {
      "cell_type": "code",
      "source": [
        "#Q1: use a lambda function to sort a list of tuples based on the second element\n",
        "my_list = [(1, 2), (3, 1), (2, 4), (4, 3)]\n",
        "sorted_list = sorted(my_list, key=lambda x: x[1])\n",
        "print(sorted_list)\n",
        "\n",
        "#---------------------------------------------------------------------------\n",
        "\n",
        "#Q2 : use a lambda function to return the sequar of number\n",
        "sequaredNumber=lambda n: n*n\n",
        "print(sequaredNumber(5))\n",
        "\n",
        "#---------------------------------------------------------------------------\n",
        "\n",
        "#Q3: use a lambda function to filter even numberfrom a list\n",
        "NumberList=[1,2,3,4,5,6,7,8,9,10]\n",
        "evenNumber=filter(lambda x: x%2==0,NumberList)\n",
        "print(\"Even Number\",list(evenNumber))\n",
        "\n",
        "#---------------------------------------------------------------------------"
      ],
      "metadata": {
        "colab": {
          "base_uri": "https://localhost:8080/"
        },
        "id": "u7kcTKwD3wtd",
        "outputId": "cee173e7-cb81-402c-a33c-e9094194e61a"
      },
      "execution_count": 143,
      "outputs": [
        {
          "output_type": "stream",
          "name": "stdout",
          "text": [
            "[(3, 1), (1, 2), (4, 3), (2, 4)]\n",
            "25\n",
            "Even Number [2, 4, 6, 8, 10]\n"
          ]
        }
      ]
    },
    {
      "cell_type": "markdown",
      "source": [
        "# Classes and OOP"
      ],
      "metadata": {
        "id": "mw2lHYfv_E0o"
      }
    },
    {
      "cell_type": "code",
      "source": [
        "#Q1: Create Car Class with attributes:\n",
        "class car:\n",
        "  brand=''\n",
        "  model=''\n",
        "  def displayCarInfo(self):\n",
        "   print(\"Brand : \",self.brand)\n",
        "   print(\"Model : \",self.model)\n",
        "\n",
        "car1=car()\n",
        "car1.brand='Toyota'\n",
        "car1.model='Camry'\n",
        "car1.displayCarInfo()\n",
        "\n",
        "#Q2: creat a class with  a class method that return the number of objects created from the class\n",
        "class person:\n",
        "    count = 0\n",
        "\n",
        "    def __init__(self):\n",
        "        person.count += 1\n",
        "\n",
        "    @classmethod\n",
        "    def get_count(cls):\n",
        "        return cls.count\n",
        "\n",
        "person1 = person()\n",
        "person2 = person()\n",
        "person3 = person()\n",
        "\n",
        "print(\"The number of objects created from the person class : \",person.get_count())\n",
        "\n",
        "#---------------------------------------------------------------------------\n",
        "\n",
        "#Q3: create parent class and child class that inherits from it and adds anew method\n",
        "class parent:\n",
        "  def parentMethod(self):\n",
        "    print(\"This is parent method\")\n",
        "\n",
        "class child(parent):\n",
        "  def childMethod(self):\n",
        "    print(\"This is child method\")\n",
        "\n",
        "\n",
        "child1=child()\n",
        "child1.childMethod()\n",
        "\n",
        "#---------------------------------------------------------------------------\n",
        "\n",
        "#Q4: write two classesDog and Cat that both have a method make_sound(), then call make_Sound() polymorphically\n",
        "class Animal:\n",
        "    def make_sound(self):\n",
        "        print(\"The animal makes a sound.\")\n",
        "class Dog(Animal):\n",
        "    def make_sound(self):\n",
        "        print(\"Woof!\")\n",
        "\n",
        "class Cat(Animal):\n",
        "    def make_sound(self):\n",
        "        print(\"Meow!\")\n",
        "\n",
        "dog = Dog()\n",
        "cat = Cat()\n",
        "\n",
        "dog.make_sound()\n",
        "cat.make_sound()\n",
        "\n",
        "#---------------------------------------------------------------------------------\n",
        "\n",
        "#Q5:creat an abstract class shape with an abstract method Area() and two child classes Rectangle and Circle\n",
        "from abc import ABC,abstractmethod\n",
        "class Shape(ABC):\n",
        "  @abstractmethod\n",
        "  def Area(self):\n",
        "    pass\n",
        "\n",
        "class Rectangle(Shape):\n",
        "  def __init__(self,width,height):\n",
        "    self.width=width\n",
        "    self.height=height\n",
        "  def Area(self):\n",
        "    return self.width*self.height\n",
        "\n",
        "class Circle(Shape):\n",
        "  def __init__(self,radius):\n",
        "    self.radius=radius\n",
        "  def Area(self):\n",
        "    return 3.14*self.radius*self.radius\n",
        "\n",
        "rectangle=Rectangle(5,10)\n",
        "circle=Circle(5)\n",
        "print(\"Rectangle Area : \",rectangle.Area())\n",
        "print(\"Circle Area : \",circle.Area())\n",
        "\n",
        "#-------------------------------------------------\n",
        "\n",
        "#Q6: create class with a private attribute and provide getter and setter method\n",
        "class Person:\n",
        "    def __init__(self, name, age):\n",
        "        self._name = name\n",
        "        self._age = age\n",
        "\n",
        "    def get_name(self):\n",
        "        return self._name\n",
        "\n",
        "    def set_name(self, name):\n",
        "        self._name = name\n",
        "\n",
        "person1=Person(\"Ahmed\",20)\n",
        "print(person1.get_name())\n",
        "person1.set_name(\"Ali\")\n",
        "print(person1.get_name())"
      ],
      "metadata": {
        "colab": {
          "base_uri": "https://localhost:8080/"
        },
        "id": "mhgJGwJR_TjB",
        "outputId": "3c157071-2041-486a-8f98-f1184df38679"
      },
      "execution_count": 149,
      "outputs": [
        {
          "output_type": "stream",
          "name": "stdout",
          "text": [
            "Brand :  Toyota\n",
            "Model :  Camry\n",
            "The number of objects created from the person class :  3\n",
            "This is child method\n",
            "Woof!\n",
            "Meow!\n",
            "Rectangle Area :  50\n",
            "Circle Area :  78.5\n",
            "Ahmed\n",
            "Ali\n"
          ]
        }
      ]
    },
    {
      "cell_type": "markdown",
      "source": [
        "# JSON"
      ],
      "metadata": {
        "id": "ucw3v4hHG2EB"
      }
    },
    {
      "cell_type": "code",
      "source": [
        "#Q1 : Convert a Python dictionary into JSON string\n",
        "import json\n",
        "my_dict = {'name': 'John', 'age': 30, 'city': 'New York'}\n",
        "json_string = json.dumps(my_dict)\n",
        "print(\"Json String \",json_string)\n",
        "\n",
        "#--------------------------------------------------------------\n",
        "\n",
        "#Q2: Read data from a JSON file and print it\n",
        "json_string = '{\"name\": \"John\", \"age\": 30, \"city\": \"New York\"}'\n",
        "data = json.loads(json_string)\n",
        "print(\"My dictionary Data \",data)\n",
        "\n",
        "#--------------------------------------------------------------\n",
        "\n",
        "#Q3: write a python object (dictionary) into a JSON File\n",
        "my_dict = {'name': 'John', 'age': 30, 'city': 'New York'}\n",
        "with open('my_file.json', 'w') as f:\n",
        "    json.dump(my_dict, f)\n",
        "\n",
        "#--------------------------------------------------------------\n"
      ],
      "metadata": {
        "colab": {
          "base_uri": "https://localhost:8080/"
        },
        "id": "NPI6HsWtG7f3",
        "outputId": "8da500b1-d680-44f3-963a-d4de4ff0bf18"
      },
      "execution_count": 145,
      "outputs": [
        {
          "output_type": "stream",
          "name": "stdout",
          "text": [
            "Json String  {\"name\": \"John\", \"age\": 30, \"city\": \"New York\"}\n",
            "My dictionary Data  {'name': 'John', 'age': 30, 'city': 'New York'}\n"
          ]
        }
      ]
    },
    {
      "cell_type": "markdown",
      "source": [
        "# NumBy"
      ],
      "metadata": {
        "id": "mGwouzB6OVrp"
      }
    },
    {
      "cell_type": "code",
      "source": [
        "#Q1: create a 2D NumPy array of zeros\n",
        "import numpy as np\n",
        "array=np.array([[0,0,0],[0,0,0]])\n",
        "print(array)\n",
        "#-------------------------------------------------------------------------\n",
        "\n",
        "#Q2 : creat 1D NumPy array of 10 random integers between and 100\n",
        "randomIntegerArray=np.random.randint(100, size=10)\n",
        "print(randomIntegerArray)\n",
        "#-------------------------------------------------------------------------\n",
        "\n",
        "#Q3: Find the mean,median and standard deviation of Numpy Array\n",
        "array=np.array([1,2,3,4,5,6,7,8,9,10])\n",
        "print(\"Mean : \",np.mean(array))\n",
        "print(\"Median : \",np.median(array))\n",
        "print(\"Standard Deviation : \",np.std(array))\n",
        "\n",
        "#---------------------------------------------------------------\n",
        "\n",
        "#Q4: Reshap 1D array NumPy array to 2D array\n",
        "array=np.array([1,2,3,4,5,6,7,8,9,10])\n",
        "array=array.reshape(2,5)\n",
        "print(\"Reshap 1D array to 2D array\")\n",
        "print(array)\n",
        "\n",
        "#---------------------------------------------------------------\n",
        "\n",
        "#Q5: Perform element-wise addition of two NumPy array\n",
        "array1=np.array([1,2,3,4,5])\n",
        "array2=np.array([6,7,8,9,10])\n",
        "array=array1+array2\n",
        "print(\"Element-wise addition of two NumPy array\")\n",
        "print(array)\n",
        "\n",
        "#------------------------------------------------------------------\n",
        "\n",
        "#Q6: Perform matrix multiplication between 2D NumPy array\n",
        "array1=np.array([[1,2],[3,4]])\n",
        "array2=np.array([[5,6],[7,8]])\n",
        "array=np.dot(array1,array2)\n",
        "print(\"Matrix multiplication between 2D NumPy array\")\n",
        "print(array)\n",
        "\n",
        "#-------------------------------------------------------------------------\n",
        "\n",
        "#Q7: Find the maximum and minimum values in a NumPy array and their indices\n",
        "array=np.array([1,2,3,4,5,6,7,8,9,10])\n",
        "print(\"Maximum value in a NumPy array : \",np.max(array))\n",
        "print(\"Minimum value in a NumPy array : \",np.min(array))\n",
        "print(\"Maximum value index in a NumPy array : \",np.argmax(array))\n",
        "print(\"Minimum value index in a NumPy array : \",np.argmin(array))\n",
        "\n",
        "#-------------------------------------------------------------------------\n",
        "\n",
        "#Q8: slice a NumPy array to get only the first 3 rows and 2 columns\n",
        "arr = np.array([\n",
        "    [1, 2, 3, 4],\n",
        "    [5, 6, 7, 8],\n",
        "    [9, 10, 11, 12],\n",
        "    [13, 14, 15, 16]\n",
        "])\n",
        "\n",
        "sliced = arr[:3, :2]\n",
        "print(\"The sliced array is : \")\n",
        "print(sliced)\n"
      ],
      "metadata": {
        "colab": {
          "base_uri": "https://localhost:8080/"
        },
        "id": "rx7N_hoRObJG",
        "outputId": "2c7c61ca-2ba5-4e1d-893a-09b47a4b9313"
      },
      "execution_count": 146,
      "outputs": [
        {
          "output_type": "stream",
          "name": "stdout",
          "text": [
            "[[0 0 0]\n",
            " [0 0 0]]\n",
            "[10 83 11 93 60 85 95 56 69 72]\n",
            "Mean :  5.5\n",
            "Median :  5.5\n",
            "Standard Deviation :  2.8722813232690143\n",
            "Reshap 1D array to 2D array\n",
            "[[ 1  2  3  4  5]\n",
            " [ 6  7  8  9 10]]\n",
            "Element-wise addition of two NumPy array\n",
            "[ 7  9 11 13 15]\n",
            "Matrix multiplication between 2D NumPy array\n",
            "[[19 22]\n",
            " [43 50]]\n",
            "Maximum value in a NumPy array :  10\n",
            "Minimum value in a NumPy array :  1\n",
            "Maximum value index in a NumPy array :  9\n",
            "Minimum value index in a NumPy array :  0\n",
            "The sliced array is : \n",
            "[[ 1  2]\n",
            " [ 5  6]\n",
            " [ 9 10]]\n"
          ]
        }
      ]
    }
  ],
  "metadata": {
    "colab": {
      "toc_visible": true,
      "provenance": [],
      "authorship_tag": "ABX9TyM8IG2OWQaUcK8FUlAexu/w",
      "include_colab_link": true
    },
    "kernelspec": {
      "display_name": "Python 3",
      "name": "python3"
    },
    "language_info": {
      "name": "python"
    }
  },
  "nbformat": 4,
  "nbformat_minor": 0
}